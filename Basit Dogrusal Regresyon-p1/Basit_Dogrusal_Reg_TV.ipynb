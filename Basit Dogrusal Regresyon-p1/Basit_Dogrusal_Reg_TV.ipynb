{
 "cells": [
  {
   "cell_type": "markdown",
   "id": "24b2d0dc",
   "metadata": {},
   "source": [
    "Oncelikle Ortami Hazirliyorum."
   ]
  },
  {
   "cell_type": "code",
   "execution_count": 1,
   "id": "36406051",
   "metadata": {},
   "outputs": [
    {
     "data": {
      "text/html": [
       "<div>\n",
       "<style scoped>\n",
       "    .dataframe tbody tr th:only-of-type {\n",
       "        vertical-align: middle;\n",
       "    }\n",
       "\n",
       "    .dataframe tbody tr th {\n",
       "        vertical-align: top;\n",
       "    }\n",
       "\n",
       "    .dataframe thead th {\n",
       "        text-align: right;\n",
       "    }\n",
       "</style>\n",
       "<table border=\"1\" class=\"dataframe\">\n",
       "  <thead>\n",
       "    <tr style=\"text-align: right;\">\n",
       "      <th></th>\n",
       "      <th>TV</th>\n",
       "      <th>Radio</th>\n",
       "      <th>Newspaper</th>\n",
       "      <th>Sales</th>\n",
       "    </tr>\n",
       "  </thead>\n",
       "  <tbody>\n",
       "    <tr>\n",
       "      <th>0</th>\n",
       "      <td>230.1</td>\n",
       "      <td>37.8</td>\n",
       "      <td>69.2</td>\n",
       "      <td>22.1</td>\n",
       "    </tr>\n",
       "    <tr>\n",
       "      <th>1</th>\n",
       "      <td>44.5</td>\n",
       "      <td>39.3</td>\n",
       "      <td>45.1</td>\n",
       "      <td>10.4</td>\n",
       "    </tr>\n",
       "    <tr>\n",
       "      <th>2</th>\n",
       "      <td>17.2</td>\n",
       "      <td>45.9</td>\n",
       "      <td>69.3</td>\n",
       "      <td>9.3</td>\n",
       "    </tr>\n",
       "    <tr>\n",
       "      <th>3</th>\n",
       "      <td>151.5</td>\n",
       "      <td>41.3</td>\n",
       "      <td>58.5</td>\n",
       "      <td>18.5</td>\n",
       "    </tr>\n",
       "    <tr>\n",
       "      <th>4</th>\n",
       "      <td>180.8</td>\n",
       "      <td>10.8</td>\n",
       "      <td>58.4</td>\n",
       "      <td>12.9</td>\n",
       "    </tr>\n",
       "  </tbody>\n",
       "</table>\n",
       "</div>"
      ],
      "text/plain": [
       "      TV  Radio  Newspaper  Sales\n",
       "0  230.1   37.8       69.2   22.1\n",
       "1   44.5   39.3       45.1   10.4\n",
       "2   17.2   45.9       69.3    9.3\n",
       "3  151.5   41.3       58.5   18.5\n",
       "4  180.8   10.8       58.4   12.9"
      ]
     },
     "execution_count": 1,
     "metadata": {},
     "output_type": "execute_result"
    }
   ],
   "source": [
    "import pandas as pd\n",
    "import numpy as np\n",
    "import matplotlib.pyplot as plt\n",
    "import seaborn as sns\n",
    "from sklearn.linear_model import LinearRegression\n",
    "from sklearn.model_selection import train_test_split\n",
    "from sklearn.metrics import mean_squared_error, r2_score\n",
    "\n",
    "# Load the dataset\n",
    "df = pd.read_csv('Advertising.csv')\n",
    "df = df.iloc[:, 1:len(df)]\n",
    "df.head()"
   ]
  },
  {
   "cell_type": "markdown",
   "id": "03518233",
   "metadata": {},
   "source": [
    "##### 📊 Veri Setinin İçeriği\n",
    "Veri seti, her satırı bir reklam kampanyasını temsil eden ve aşağıdaki sütunları içeren 200 gözlemden oluşmaktadır:​\n",
    "\n",
    "* TV: Televizyon reklamlarına yapılan harcama (bin dolar cinsinden)\n",
    "\n",
    "* Radio: Radyo reklamlarına yapılan harcama (bin dolar cinsinden)\n",
    "\n",
    "* Newspaper: Gazete reklamlarına yapılan harcama (bin dolar cinsinden)\n",
    "\n",
    "* Sales: Yapılan satış miktarı (bin birim cinsinden)"
   ]
  },
  {
   "cell_type": "code",
   "execution_count": 3,
   "id": "22acf93e",
   "metadata": {},
   "outputs": [
    {
     "data": {
      "text/html": [
       "<div>\n",
       "<style scoped>\n",
       "    .dataframe tbody tr th:only-of-type {\n",
       "        vertical-align: middle;\n",
       "    }\n",
       "\n",
       "    .dataframe tbody tr th {\n",
       "        vertical-align: top;\n",
       "    }\n",
       "\n",
       "    .dataframe thead th {\n",
       "        text-align: right;\n",
       "    }\n",
       "</style>\n",
       "<table border=\"1\" class=\"dataframe\">\n",
       "  <thead>\n",
       "    <tr style=\"text-align: right;\">\n",
       "      <th></th>\n",
       "      <th>count</th>\n",
       "      <th>mean</th>\n",
       "      <th>std</th>\n",
       "      <th>min</th>\n",
       "      <th>25%</th>\n",
       "      <th>50%</th>\n",
       "      <th>75%</th>\n",
       "      <th>max</th>\n",
       "    </tr>\n",
       "  </thead>\n",
       "  <tbody>\n",
       "    <tr>\n",
       "      <th>TV</th>\n",
       "      <td>200.0</td>\n",
       "      <td>147.0425</td>\n",
       "      <td>85.854236</td>\n",
       "      <td>0.7</td>\n",
       "      <td>74.375</td>\n",
       "      <td>149.75</td>\n",
       "      <td>218.825</td>\n",
       "      <td>296.4</td>\n",
       "    </tr>\n",
       "    <tr>\n",
       "      <th>Radio</th>\n",
       "      <td>200.0</td>\n",
       "      <td>23.2640</td>\n",
       "      <td>14.846809</td>\n",
       "      <td>0.0</td>\n",
       "      <td>9.975</td>\n",
       "      <td>22.90</td>\n",
       "      <td>36.525</td>\n",
       "      <td>49.6</td>\n",
       "    </tr>\n",
       "    <tr>\n",
       "      <th>Newspaper</th>\n",
       "      <td>200.0</td>\n",
       "      <td>30.5540</td>\n",
       "      <td>21.778621</td>\n",
       "      <td>0.3</td>\n",
       "      <td>12.750</td>\n",
       "      <td>25.75</td>\n",
       "      <td>45.100</td>\n",
       "      <td>114.0</td>\n",
       "    </tr>\n",
       "    <tr>\n",
       "      <th>Sales</th>\n",
       "      <td>200.0</td>\n",
       "      <td>14.0225</td>\n",
       "      <td>5.217457</td>\n",
       "      <td>1.6</td>\n",
       "      <td>10.375</td>\n",
       "      <td>12.90</td>\n",
       "      <td>17.400</td>\n",
       "      <td>27.0</td>\n",
       "    </tr>\n",
       "  </tbody>\n",
       "</table>\n",
       "</div>"
      ],
      "text/plain": [
       "           count      mean        std  min     25%     50%      75%    max\n",
       "TV         200.0  147.0425  85.854236  0.7  74.375  149.75  218.825  296.4\n",
       "Radio      200.0   23.2640  14.846809  0.0   9.975   22.90   36.525   49.6\n",
       "Newspaper  200.0   30.5540  21.778621  0.3  12.750   25.75   45.100  114.0\n",
       "Sales      200.0   14.0225   5.217457  1.6  10.375   12.90   17.400   27.0"
      ]
     },
     "execution_count": 3,
     "metadata": {},
     "output_type": "execute_result"
    }
   ],
   "source": [
    "df.describe().T"
   ]
  },
  {
   "cell_type": "code",
   "execution_count": 4,
   "id": "d9a624f3",
   "metadata": {},
   "outputs": [
    {
     "name": "stdout",
     "output_type": "stream",
     "text": [
      "<class 'pandas.core.frame.DataFrame'>\n",
      "RangeIndex: 200 entries, 0 to 199\n",
      "Data columns (total 4 columns):\n",
      " #   Column     Non-Null Count  Dtype  \n",
      "---  ------     --------------  -----  \n",
      " 0   TV         200 non-null    float64\n",
      " 1   Radio      200 non-null    float64\n",
      " 2   Newspaper  200 non-null    float64\n",
      " 3   Sales      200 non-null    float64\n",
      "dtypes: float64(4)\n",
      "memory usage: 6.4 KB\n"
     ]
    }
   ],
   "source": [
    "df.info() # Eksik veri var mı?"
   ]
  },
  {
   "cell_type": "code",
   "execution_count": 5,
   "id": "dc2b6891",
   "metadata": {},
   "outputs": [],
   "source": [
    "# oncelikle hedef degiskeni belirleyelim\n",
    "# Hedef değişken: Sales\n",
    "# Bağımsız değişkenler: TV, Radio, Newspaper"
   ]
  },
  {
   "cell_type": "code",
   "execution_count": 6,
   "id": "904975ec",
   "metadata": {},
   "outputs": [
    {
     "data": {
      "image/png": "[encoded data removed]",
      "text/plain": [
       "<Figure size 600x600 with 3 Axes>"
      ]
     },
     "metadata": {},
     "output_type": "display_data"
    }
   ],
   "source": [
    "sns.jointplot(x='TV', y='Sales', data=df, kind='reg');"
   ]
  },
  {
   "cell_type": "code",
   "execution_count": 7,
   "id": "6c1a9532",
   "metadata": {},
   "outputs": [],
   "source": [
    "# TV ile Sales arasında pozitif bir ilişki var gibi görünüyor.\n",
    "X = df[['TV']] # Bağımsız değişken dataframe olarak aldik\n",
    "y = df['Sales'] # Hedef değişken"
   ]
  },
  {
   "cell_type": "code",
   "execution_count": 8,
   "id": "d40d0f12",
   "metadata": {},
   "outputs": [],
   "source": [
    "reg = LinearRegression()"
   ]
  },
  {
   "cell_type": "code",
   "execution_count": 9,
   "id": "c9d0b5e0",
   "metadata": {},
   "outputs": [],
   "source": [
    "model = reg.fit(X, y) # Modeli eğitiyoruz"
   ]
  },
  {
   "cell_type": "code",
   "execution_count": 10,
   "id": "9d5aa279",
   "metadata": {},
   "outputs": [
    {
     "data": {
      "text/plain": [
       "7.032593549127694"
      ]
     },
     "execution_count": 10,
     "metadata": {},
     "output_type": "execute_result"
    }
   ],
   "source": [
    "model.intercept_ # Y eksenini kestiği nokta (b0)"
   ]
  },
  {
   "cell_type": "code",
   "execution_count": 11,
   "id": "285a44b4",
   "metadata": {},
   "outputs": [
    {
     "data": {
      "text/plain": [
       "array([0.04753664])"
      ]
     },
     "execution_count": 11,
     "metadata": {},
     "output_type": "execute_result"
    }
   ],
   "source": [
    "model.coef_ # Eğim (b1)"
   ]
  },
  {
   "cell_type": "code",
   "execution_count": 13,
   "id": "57b8859a",
   "metadata": {},
   "outputs": [
    {
     "data": {
      "text/plain": [
       "0.611875050850071"
      ]
     },
     "execution_count": 13,
     "metadata": {},
     "output_type": "execute_result"
    }
   ],
   "source": [
    "model.score(X, y) # Modelin R^2 değeri\n",
    "# Modelin R^2 değeri 0.611, bu da modelin %61.1 oranında açıklayıcı güce sahip olduğunu gösteriyor. ORTA"
   ]
  },
  {
   "cell_type": "code",
   "execution_count": 14,
   "id": "091cf27f",
   "metadata": {},
   "outputs": [
    {
     "data": {
      "image/png": "[encoded data removed]",
      "text/plain": [
       "<Figure size 640x480 with 1 Axes>"
      ]
     },
     "metadata": {},
     "output_type": "display_data"
    }
   ],
   "source": [
    "g = sns.regplot(x='TV', y='Sales', data=df, ci=None) # TV ile Sales arasındaki ilişkiyi gösteren regresyon grafik\n",
    "g.set_title('TV vs Sales 7.032593549127694 + 0.04753664 * TV')\n",
    "g.set_xlabel('TV Reklam Harcaması')\n",
    "g.set_ylabel('Satışlar')\n",
    "plt.xlim(0, 300) # TV harcaması 0-300 arası\n",
    "plt.ylim(0, 30) # Satışlar 0-30 arası\n",
    "plt.show()"
   ]
  },
  {
   "cell_type": "markdown",
   "id": "b8996a46",
   "metadata": {},
   "source": [
    "DENKLEM = **7.032593549127694 + 0.04753664 * TV**"
   ]
  },
  {
   "cell_type": "code",
   "execution_count": 17,
   "id": "0c92a4ce",
   "metadata": {},
   "outputs": [
    {
     "name": "stderr",
     "output_type": "stream",
     "text": [
      "c:\\Users\\emirh\\anaconda3\\envs\\py-3-10-env\\lib\\site-packages\\sklearn\\utils\\validation.py:2739: UserWarning: X does not have valid feature names, but LinearRegression was fitted with feature names\n",
      "  warnings.warn(\n"
     ]
    },
    {
     "data": {
      "text/plain": [
       "array([11.78625759])"
      ]
     },
     "execution_count": 17,
     "metadata": {},
     "output_type": "execute_result"
    }
   ],
   "source": [
    "Deneme_1 = model.predict([[100]]) # Modeli kullanarak tahmin yapıyoruz\n",
    "Deneme_1"
   ]
  },
  {
   "cell_type": "code",
   "execution_count": 25,
   "id": "ad27fe3b",
   "metadata": {},
   "outputs": [
    {
     "data": {
      "text/plain": [
       "array([ 7.27027675,  9.40942557, 14.16308961])"
      ]
     },
     "execution_count": 25,
     "metadata": {},
     "output_type": "execute_result"
    }
   ],
   "source": [
    "yeni_veri = pd.DataFrame({'TV': [5,50,150]})\n",
    "model.predict(yeni_veri) # Yeni veriler için tahmin yapıyoruz\n",
    "# 5, 50 ve 150 TV harcaması için satış tahminleri"
   ]
  },
  {
   "cell_type": "markdown",
   "id": "94268cb0",
   "metadata": {},
   "source": [
    "ARTIKLARI HESAPLAYALIM"
   ]
  },
  {
   "cell_type": "code",
   "execution_count": 26,
   "id": "2b5b362f",
   "metadata": {},
   "outputs": [],
   "source": [
    "gercek_y = y.head(10) # Gerçek satış değerleri"
   ]
  },
  {
   "cell_type": "code",
   "execution_count": 27,
   "id": "da254a60",
   "metadata": {},
   "outputs": [],
   "source": [
    "tahmin_y = pd.DataFrame(model.predict(X)[0:10]) # İlk 10 gözlem için tahmin edilen satış değerleri"
   ]
  },
  {
   "cell_type": "code",
   "execution_count": 28,
   "id": "7bf6d346",
   "metadata": {},
   "outputs": [],
   "source": [
    "hatalar = pd.concat([gercek_y, tahmin_y], axis=1) # Gerçek ve tahmin edilen değerleri birleştiriyoruz\n",
    "hatalar.columns = ['Gercek_Satis', 'Tahmin_Satis'] # Sütun isimlerini değiştiriyoruz"
   ]
  },
  {
   "cell_type": "code",
   "execution_count": 29,
   "id": "53500ab9",
   "metadata": {},
   "outputs": [
    {
     "data": {
      "text/html": [
       "<div>\n",
       "<style scoped>\n",
       "    .dataframe tbody tr th:only-of-type {\n",
       "        vertical-align: middle;\n",
       "    }\n",
       "\n",
       "    .dataframe tbody tr th {\n",
       "        vertical-align: top;\n",
       "    }\n",
       "\n",
       "    .dataframe thead th {\n",
       "        text-align: right;\n",
       "    }\n",
       "</style>\n",
       "<table border=\"1\" class=\"dataframe\">\n",
       "  <thead>\n",
       "    <tr style=\"text-align: right;\">\n",
       "      <th></th>\n",
       "      <th>Gercek_Satis</th>\n",
       "      <th>Tahmin_Satis</th>\n",
       "    </tr>\n",
       "  </thead>\n",
       "  <tbody>\n",
       "    <tr>\n",
       "      <th>0</th>\n",
       "      <td>22.1</td>\n",
       "      <td>17.970775</td>\n",
       "    </tr>\n",
       "    <tr>\n",
       "      <th>1</th>\n",
       "      <td>10.4</td>\n",
       "      <td>9.147974</td>\n",
       "    </tr>\n",
       "    <tr>\n",
       "      <th>2</th>\n",
       "      <td>9.3</td>\n",
       "      <td>7.850224</td>\n",
       "    </tr>\n",
       "    <tr>\n",
       "      <th>3</th>\n",
       "      <td>18.5</td>\n",
       "      <td>14.234395</td>\n",
       "    </tr>\n",
       "    <tr>\n",
       "      <th>4</th>\n",
       "      <td>12.9</td>\n",
       "      <td>15.627218</td>\n",
       "    </tr>\n",
       "    <tr>\n",
       "      <th>5</th>\n",
       "      <td>7.2</td>\n",
       "      <td>7.446162</td>\n",
       "    </tr>\n",
       "    <tr>\n",
       "      <th>6</th>\n",
       "      <td>11.8</td>\n",
       "      <td>9.765950</td>\n",
       "    </tr>\n",
       "    <tr>\n",
       "      <th>7</th>\n",
       "      <td>13.2</td>\n",
       "      <td>12.746498</td>\n",
       "    </tr>\n",
       "    <tr>\n",
       "      <th>8</th>\n",
       "      <td>4.8</td>\n",
       "      <td>7.441409</td>\n",
       "    </tr>\n",
       "    <tr>\n",
       "      <th>9</th>\n",
       "      <td>10.6</td>\n",
       "      <td>16.530414</td>\n",
       "    </tr>\n",
       "  </tbody>\n",
       "</table>\n",
       "</div>"
      ],
      "text/plain": [
       "   Gercek_Satis  Tahmin_Satis\n",
       "0          22.1     17.970775\n",
       "1          10.4      9.147974\n",
       "2           9.3      7.850224\n",
       "3          18.5     14.234395\n",
       "4          12.9     15.627218\n",
       "5           7.2      7.446162\n",
       "6          11.8      9.765950\n",
       "7          13.2     12.746498\n",
       "8           4.8      7.441409\n",
       "9          10.6     16.530414"
      ]
     },
     "execution_count": 29,
     "metadata": {},
     "output_type": "execute_result"
    }
   ],
   "source": [
    "hatalar"
   ]
  },
  {
   "cell_type": "code",
   "execution_count": 32,
   "id": "62b2b2f5",
   "metadata": {},
   "outputs": [
    {
     "data": {
      "text/html": [
       "<div>\n",
       "<style scoped>\n",
       "    .dataframe tbody tr th:only-of-type {\n",
       "        vertical-align: middle;\n",
       "    }\n",
       "\n",
       "    .dataframe tbody tr th {\n",
       "        vertical-align: top;\n",
       "    }\n",
       "\n",
       "    .dataframe thead th {\n",
       "        text-align: right;\n",
       "    }\n",
       "</style>\n",
       "<table border=\"1\" class=\"dataframe\">\n",
       "  <thead>\n",
       "    <tr style=\"text-align: right;\">\n",
       "      <th></th>\n",
       "      <th>Gercek_Satis</th>\n",
       "      <th>Tahmin_Satis</th>\n",
       "      <th>hata</th>\n",
       "    </tr>\n",
       "  </thead>\n",
       "  <tbody>\n",
       "    <tr>\n",
       "      <th>0</th>\n",
       "      <td>22.1</td>\n",
       "      <td>17.970775</td>\n",
       "      <td>4.129225</td>\n",
       "    </tr>\n",
       "    <tr>\n",
       "      <th>1</th>\n",
       "      <td>10.4</td>\n",
       "      <td>9.147974</td>\n",
       "      <td>1.252026</td>\n",
       "    </tr>\n",
       "    <tr>\n",
       "      <th>2</th>\n",
       "      <td>9.3</td>\n",
       "      <td>7.850224</td>\n",
       "      <td>1.449776</td>\n",
       "    </tr>\n",
       "    <tr>\n",
       "      <th>3</th>\n",
       "      <td>18.5</td>\n",
       "      <td>14.234395</td>\n",
       "      <td>4.265605</td>\n",
       "    </tr>\n",
       "    <tr>\n",
       "      <th>4</th>\n",
       "      <td>12.9</td>\n",
       "      <td>15.627218</td>\n",
       "      <td>-2.727218</td>\n",
       "    </tr>\n",
       "    <tr>\n",
       "      <th>5</th>\n",
       "      <td>7.2</td>\n",
       "      <td>7.446162</td>\n",
       "      <td>-0.246162</td>\n",
       "    </tr>\n",
       "    <tr>\n",
       "      <th>6</th>\n",
       "      <td>11.8</td>\n",
       "      <td>9.765950</td>\n",
       "      <td>2.034050</td>\n",
       "    </tr>\n",
       "    <tr>\n",
       "      <th>7</th>\n",
       "      <td>13.2</td>\n",
       "      <td>12.746498</td>\n",
       "      <td>0.453502</td>\n",
       "    </tr>\n",
       "    <tr>\n",
       "      <th>8</th>\n",
       "      <td>4.8</td>\n",
       "      <td>7.441409</td>\n",
       "      <td>-2.641409</td>\n",
       "    </tr>\n",
       "    <tr>\n",
       "      <th>9</th>\n",
       "      <td>10.6</td>\n",
       "      <td>16.530414</td>\n",
       "      <td>-5.930414</td>\n",
       "    </tr>\n",
       "  </tbody>\n",
       "</table>\n",
       "</div>"
      ],
      "text/plain": [
       "   Gercek_Satis  Tahmin_Satis      hata\n",
       "0          22.1     17.970775  4.129225\n",
       "1          10.4      9.147974  1.252026\n",
       "2           9.3      7.850224  1.449776\n",
       "3          18.5     14.234395  4.265605\n",
       "4          12.9     15.627218 -2.727218\n",
       "5           7.2      7.446162 -0.246162\n",
       "6          11.8      9.765950  2.034050\n",
       "7          13.2     12.746498  0.453502\n",
       "8           4.8      7.441409 -2.641409\n",
       "9          10.6     16.530414 -5.930414"
      ]
     },
     "execution_count": 32,
     "metadata": {},
     "output_type": "execute_result"
    }
   ],
   "source": [
    "hatalar['hata'] = hatalar['Gercek_Satis'] - hatalar['Tahmin_Satis'] # Hataları hesaplıyoruz\n",
    "\n",
    "hatalar"
   ]
  },
  {
   "cell_type": "code",
   "execution_count": 33,
   "id": "c5fb6163",
   "metadata": {},
   "outputs": [
    {
     "data": {
      "text/html": [
       "<div>\n",
       "<style scoped>\n",
       "    .dataframe tbody tr th:only-of-type {\n",
       "        vertical-align: middle;\n",
       "    }\n",
       "\n",
       "    .dataframe tbody tr th {\n",
       "        vertical-align: top;\n",
       "    }\n",
       "\n",
       "    .dataframe thead th {\n",
       "        text-align: right;\n",
       "    }\n",
       "</style>\n",
       "<table border=\"1\" class=\"dataframe\">\n",
       "  <thead>\n",
       "    <tr style=\"text-align: right;\">\n",
       "      <th></th>\n",
       "      <th>Gercek_Satis</th>\n",
       "      <th>Tahmin_Satis</th>\n",
       "      <th>hata</th>\n",
       "      <th>hatalar_kare</th>\n",
       "    </tr>\n",
       "  </thead>\n",
       "  <tbody>\n",
       "    <tr>\n",
       "      <th>0</th>\n",
       "      <td>22.1</td>\n",
       "      <td>17.970775</td>\n",
       "      <td>4.129225</td>\n",
       "      <td>17.050503</td>\n",
       "    </tr>\n",
       "    <tr>\n",
       "      <th>1</th>\n",
       "      <td>10.4</td>\n",
       "      <td>9.147974</td>\n",
       "      <td>1.252026</td>\n",
       "      <td>1.567569</td>\n",
       "    </tr>\n",
       "    <tr>\n",
       "      <th>2</th>\n",
       "      <td>9.3</td>\n",
       "      <td>7.850224</td>\n",
       "      <td>1.449776</td>\n",
       "      <td>2.101851</td>\n",
       "    </tr>\n",
       "    <tr>\n",
       "      <th>3</th>\n",
       "      <td>18.5</td>\n",
       "      <td>14.234395</td>\n",
       "      <td>4.265605</td>\n",
       "      <td>18.195390</td>\n",
       "    </tr>\n",
       "    <tr>\n",
       "      <th>4</th>\n",
       "      <td>12.9</td>\n",
       "      <td>15.627218</td>\n",
       "      <td>-2.727218</td>\n",
       "      <td>7.437719</td>\n",
       "    </tr>\n",
       "    <tr>\n",
       "      <th>5</th>\n",
       "      <td>7.2</td>\n",
       "      <td>7.446162</td>\n",
       "      <td>-0.246162</td>\n",
       "      <td>0.060596</td>\n",
       "    </tr>\n",
       "    <tr>\n",
       "      <th>6</th>\n",
       "      <td>11.8</td>\n",
       "      <td>9.765950</td>\n",
       "      <td>2.034050</td>\n",
       "      <td>4.137358</td>\n",
       "    </tr>\n",
       "    <tr>\n",
       "      <th>7</th>\n",
       "      <td>13.2</td>\n",
       "      <td>12.746498</td>\n",
       "      <td>0.453502</td>\n",
       "      <td>0.205664</td>\n",
       "    </tr>\n",
       "    <tr>\n",
       "      <th>8</th>\n",
       "      <td>4.8</td>\n",
       "      <td>7.441409</td>\n",
       "      <td>-2.641409</td>\n",
       "      <td>6.977040</td>\n",
       "    </tr>\n",
       "    <tr>\n",
       "      <th>9</th>\n",
       "      <td>10.6</td>\n",
       "      <td>16.530414</td>\n",
       "      <td>-5.930414</td>\n",
       "      <td>35.169814</td>\n",
       "    </tr>\n",
       "  </tbody>\n",
       "</table>\n",
       "</div>"
      ],
      "text/plain": [
       "   Gercek_Satis  Tahmin_Satis      hata  hatalar_kare\n",
       "0          22.1     17.970775  4.129225     17.050503\n",
       "1          10.4      9.147974  1.252026      1.567569\n",
       "2           9.3      7.850224  1.449776      2.101851\n",
       "3          18.5     14.234395  4.265605     18.195390\n",
       "4          12.9     15.627218 -2.727218      7.437719\n",
       "5           7.2      7.446162 -0.246162      0.060596\n",
       "6          11.8      9.765950  2.034050      4.137358\n",
       "7          13.2     12.746498  0.453502      0.205664\n",
       "8           4.8      7.441409 -2.641409      6.977040\n",
       "9          10.6     16.530414 -5.930414     35.169814"
      ]
     },
     "execution_count": 33,
     "metadata": {},
     "output_type": "execute_result"
    }
   ],
   "source": [
    "hatalar['hatalar_kare'] = hatalar['hata'] ** 2 # Hataların karelerini alıyoruz\n",
    "hatalar"
   ]
  },
  {
   "cell_type": "code",
   "execution_count": 34,
   "id": "243a90da",
   "metadata": {},
   "outputs": [
    {
     "data": {
      "text/html": [
       "<div>\n",
       "<style scoped>\n",
       "    .dataframe tbody tr th:only-of-type {\n",
       "        vertical-align: middle;\n",
       "    }\n",
       "\n",
       "    .dataframe tbody tr th {\n",
       "        vertical-align: top;\n",
       "    }\n",
       "\n",
       "    .dataframe thead th {\n",
       "        text-align: right;\n",
       "    }\n",
       "</style>\n",
       "<table border=\"1\" class=\"dataframe\">\n",
       "  <thead>\n",
       "    <tr style=\"text-align: right;\">\n",
       "      <th></th>\n",
       "      <th>Gercek_Satis</th>\n",
       "      <th>Tahmin_Satis</th>\n",
       "      <th>hata</th>\n",
       "      <th>hatalar_kare</th>\n",
       "      <th>hatalar_kokleri</th>\n",
       "    </tr>\n",
       "  </thead>\n",
       "  <tbody>\n",
       "    <tr>\n",
       "      <th>0</th>\n",
       "      <td>22.1</td>\n",
       "      <td>17.970775</td>\n",
       "      <td>4.129225</td>\n",
       "      <td>17.050503</td>\n",
       "      <td>4.129225</td>\n",
       "    </tr>\n",
       "    <tr>\n",
       "      <th>1</th>\n",
       "      <td>10.4</td>\n",
       "      <td>9.147974</td>\n",
       "      <td>1.252026</td>\n",
       "      <td>1.567569</td>\n",
       "      <td>1.252026</td>\n",
       "    </tr>\n",
       "    <tr>\n",
       "      <th>2</th>\n",
       "      <td>9.3</td>\n",
       "      <td>7.850224</td>\n",
       "      <td>1.449776</td>\n",
       "      <td>2.101851</td>\n",
       "      <td>1.449776</td>\n",
       "    </tr>\n",
       "    <tr>\n",
       "      <th>3</th>\n",
       "      <td>18.5</td>\n",
       "      <td>14.234395</td>\n",
       "      <td>4.265605</td>\n",
       "      <td>18.195390</td>\n",
       "      <td>4.265605</td>\n",
       "    </tr>\n",
       "    <tr>\n",
       "      <th>4</th>\n",
       "      <td>12.9</td>\n",
       "      <td>15.627218</td>\n",
       "      <td>-2.727218</td>\n",
       "      <td>7.437719</td>\n",
       "      <td>2.727218</td>\n",
       "    </tr>\n",
       "    <tr>\n",
       "      <th>5</th>\n",
       "      <td>7.2</td>\n",
       "      <td>7.446162</td>\n",
       "      <td>-0.246162</td>\n",
       "      <td>0.060596</td>\n",
       "      <td>0.246162</td>\n",
       "    </tr>\n",
       "    <tr>\n",
       "      <th>6</th>\n",
       "      <td>11.8</td>\n",
       "      <td>9.765950</td>\n",
       "      <td>2.034050</td>\n",
       "      <td>4.137358</td>\n",
       "      <td>2.034050</td>\n",
       "    </tr>\n",
       "    <tr>\n",
       "      <th>7</th>\n",
       "      <td>13.2</td>\n",
       "      <td>12.746498</td>\n",
       "      <td>0.453502</td>\n",
       "      <td>0.205664</td>\n",
       "      <td>0.453502</td>\n",
       "    </tr>\n",
       "    <tr>\n",
       "      <th>8</th>\n",
       "      <td>4.8</td>\n",
       "      <td>7.441409</td>\n",
       "      <td>-2.641409</td>\n",
       "      <td>6.977040</td>\n",
       "      <td>2.641409</td>\n",
       "    </tr>\n",
       "    <tr>\n",
       "      <th>9</th>\n",
       "      <td>10.6</td>\n",
       "      <td>16.530414</td>\n",
       "      <td>-5.930414</td>\n",
       "      <td>35.169814</td>\n",
       "      <td>5.930414</td>\n",
       "    </tr>\n",
       "  </tbody>\n",
       "</table>\n",
       "</div>"
      ],
      "text/plain": [
       "   Gercek_Satis  Tahmin_Satis      hata  hatalar_kare  hatalar_kokleri\n",
       "0          22.1     17.970775  4.129225     17.050503         4.129225\n",
       "1          10.4      9.147974  1.252026      1.567569         1.252026\n",
       "2           9.3      7.850224  1.449776      2.101851         1.449776\n",
       "3          18.5     14.234395  4.265605     18.195390         4.265605\n",
       "4          12.9     15.627218 -2.727218      7.437719         2.727218\n",
       "5           7.2      7.446162 -0.246162      0.060596         0.246162\n",
       "6          11.8      9.765950  2.034050      4.137358         2.034050\n",
       "7          13.2     12.746498  0.453502      0.205664         0.453502\n",
       "8           4.8      7.441409 -2.641409      6.977040         2.641409\n",
       "9          10.6     16.530414 -5.930414     35.169814         5.930414"
      ]
     },
     "execution_count": 34,
     "metadata": {},
     "output_type": "execute_result"
    }
   ],
   "source": [
    "hatalar['hatalar_kokleri'] = np.sqrt(hatalar['hatalar_kare']) # Hataların karekökünü alıyoruz\n",
    "hatalar"
   ]
  },
  {
   "cell_type": "code",
   "execution_count": 35,
   "id": "b3aed1ef",
   "metadata": {},
   "outputs": [
    {
     "data": {
      "text/plain": [
       "2.5129388421137913"
      ]
     },
     "execution_count": 35,
     "metadata": {},
     "output_type": "execute_result"
    }
   ],
   "source": [
    "np.mean(hatalar['hatalar_kokleri']) # Ortalama hata (MAE) hesaplıyoruz"
   ]
  },
  {
   "cell_type": "code",
   "execution_count": 36,
   "id": "cb49cafc",
   "metadata": {},
   "outputs": [
    {
     "data": {
      "text/plain": [
       "9.290350329638105"
      ]
     },
     "execution_count": 36,
     "metadata": {},
     "output_type": "execute_result"
    }
   ],
   "source": [
    "np.mean(hatalar['hatalar_kare']) # Ortalama kare hata (MSE) hesaplıyoruz"
   ]
  },
  {
   "cell_type": "code",
   "execution_count": 38,
   "id": "637a3117",
   "metadata": {},
   "outputs": [
    {
     "data": {
      "text/plain": [
       "3.048007599996776"
      ]
     },
     "execution_count": 38,
     "metadata": {},
     "output_type": "execute_result"
    }
   ],
   "source": [
    "np.sqrt(hatalar['hatalar_kare'].mean()) # Ortalama kare hatayı hesaplıyoruz (RMSE)"
   ]
  },
  {
   "cell_type": "code",
   "execution_count": 39,
   "id": "586777dc",
   "metadata": {},
   "outputs": [
    {
     "data": {
      "image/png": "[encoded data removed]",
      "text/plain": [
       "<Figure size 640x480 with 1 Axes>"
      ]
     },
     "metadata": {},
     "output_type": "display_data"
    }
   ],
   "source": [
    "X_range = np.linspace(X.min(), X.max(), 100) # X değerlerini 100 eşit parçaya bölüyoruz\n",
    "\n",
    "y_line = 7.032593549127694 + 0.04753664 * X_range # Regresyon doğrusunu hesaplıyoruz\n",
    "\n",
    "plt.scatter(X, y, color='blue', label='Gerçek Değerler') # Gerçek değerleri çiziyoruz\n",
    "plt.plot(X_range, y_line, color='red', label='Regresyon Doğrusu') # Regresyon doğrusunu çiziyoruz\n",
    "plt.title('TV Reklam Harcaması ve Satışlar Arasındaki İlişki')\n",
    "plt.xlabel('TV Reklam Harcaması')\n",
    "plt.ylabel('Satışlar')\n",
    "plt.legend() # Efsane ekliyoruz\n",
    "plt.show() # Grafiği gösteriyoruz\n",
    "# TV Reklam Harcaması ve Satışlar Arasındaki İlişki\n"
   ]
  },
  {
   "cell_type": "markdown",
   "id": "133c4935",
   "metadata": {},
   "source": [
    "b0 = 7.032593549127694 \\\n",
    "b1 = 0.04753664 \\\n",
    "x = TV \\\n",
    "R^2 = 0.611875050850071 \\\n",
    "MAE = 2.5129388421137913 \\\n",
    "MSE = 9.290350329638105 \\\n",
    "RMSE = 3.048007599996776 \n",
    "\n",
    "FORMUL = **7.032593549127694 + 0.04753664 * TV**"
   ]
  },
  {
   "cell_type": "markdown",
   "id": "708708f3",
   "metadata": {},
   "source": [
    "### **Sonuç Olarak Ne Çıkar?**\n",
    "\n",
    "- TV harcamaları satışları artırıyor (pozitif ilişki).\n",
    "\n",
    "- Ancak bu ilişki çok güçlü değil (b1 küçük).\n",
    "\n",
    "- Model satışların %61'ini açıklıyor, gayet iyi.\n",
    "\n",
    "- Ortalama 2.5-3 birimlik hata ile tahmin yapıyor, makul.\n",
    "\n"
   ]
  },
  {
   "cell_type": "markdown",
   "id": "bafcaa36",
   "metadata": {},
   "source": []
  }
 ],
 "metadata": {
  "kernelspec": {
   "display_name": "py-3-10-env",
   "language": "python",
   "name": "python3"
  },
  "language_info": {
   "codemirror_mode": {
    "name": "ipython",
    "version": 3
   },
   "file_extension": ".py",
   "mimetype": "text/x-python",
   "name": "python",
   "nbconvert_exporter": "python",
   "pygments_lexer": "ipython3",
   "version": "3.10.16"
  }
 },
 "nbformat": 4,
 "nbformat_minor": 5
}
