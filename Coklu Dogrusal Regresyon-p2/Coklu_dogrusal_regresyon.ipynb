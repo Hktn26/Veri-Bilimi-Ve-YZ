{
 "cells": [
  {
   "cell_type": "code",
   "execution_count": 3,
   "id": "0d2ca37a",
   "metadata": {},
   "outputs": [
    {
     "data": {
      "text/html": [
       "<div>\n",
       "<style scoped>\n",
       "    .dataframe tbody tr th:only-of-type {\n",
       "        vertical-align: middle;\n",
       "    }\n",
       "\n",
       "    .dataframe tbody tr th {\n",
       "        vertical-align: top;\n",
       "    }\n",
       "\n",
       "    .dataframe thead th {\n",
       "        text-align: right;\n",
       "    }\n",
       "</style>\n",
       "<table border=\"1\" class=\"dataframe\">\n",
       "  <thead>\n",
       "    <tr style=\"text-align: right;\">\n",
       "      <th></th>\n",
       "      <th>TV</th>\n",
       "      <th>Radio</th>\n",
       "      <th>Newspaper</th>\n",
       "      <th>Sales</th>\n",
       "    </tr>\n",
       "  </thead>\n",
       "  <tbody>\n",
       "    <tr>\n",
       "      <th>0</th>\n",
       "      <td>230.1</td>\n",
       "      <td>37.8</td>\n",
       "      <td>69.2</td>\n",
       "      <td>22.1</td>\n",
       "    </tr>\n",
       "    <tr>\n",
       "      <th>1</th>\n",
       "      <td>44.5</td>\n",
       "      <td>39.3</td>\n",
       "      <td>45.1</td>\n",
       "      <td>10.4</td>\n",
       "    </tr>\n",
       "    <tr>\n",
       "      <th>2</th>\n",
       "      <td>17.2</td>\n",
       "      <td>45.9</td>\n",
       "      <td>69.3</td>\n",
       "      <td>9.3</td>\n",
       "    </tr>\n",
       "    <tr>\n",
       "      <th>3</th>\n",
       "      <td>151.5</td>\n",
       "      <td>41.3</td>\n",
       "      <td>58.5</td>\n",
       "      <td>18.5</td>\n",
       "    </tr>\n",
       "    <tr>\n",
       "      <th>4</th>\n",
       "      <td>180.8</td>\n",
       "      <td>10.8</td>\n",
       "      <td>58.4</td>\n",
       "      <td>12.9</td>\n",
       "    </tr>\n",
       "  </tbody>\n",
       "</table>\n",
       "</div>"
      ],
      "text/plain": [
       "      TV  Radio  Newspaper  Sales\n",
       "0  230.1   37.8       69.2   22.1\n",
       "1   44.5   39.3       45.1   10.4\n",
       "2   17.2   45.9       69.3    9.3\n",
       "3  151.5   41.3       58.5   18.5\n",
       "4  180.8   10.8       58.4   12.9"
      ]
     },
     "execution_count": 3,
     "metadata": {},
     "output_type": "execute_result"
    }
   ],
   "source": [
    "## Ortam Hazirlanmasi\n",
    "import pandas as pd\n",
    "import numpy as np\n",
    "import matplotlib.pyplot as plt\n",
    "import seaborn as sns\n",
    "from sklearn.linear_model import LinearRegression\n",
    "from sklearn.model_selection import train_test_split\n",
    "from sklearn.metrics import mean_squared_error, r2_score\n",
    "import statsmodels.api as sm\n",
    "from sklearn.model_selection import cross_val_score\n",
    "## Veri Setinin Yuklenmesi\n",
    "df = pd.read_csv('Advertising.csv')\n",
    "df = df.iloc[:, 1:len(df)]\n",
    "df.head()"
   ]
  },
  {
   "cell_type": "code",
   "execution_count": 4,
   "id": "ab66526d",
   "metadata": {},
   "outputs": [],
   "source": [
    "X = df.drop('Sales', axis=1)\n",
    "y = df[['Sales']]"
   ]
  },
  {
   "cell_type": "code",
   "execution_count": 5,
   "id": "b0c35883",
   "metadata": {},
   "outputs": [
    {
     "data": {
      "text/html": [
       "<div>\n",
       "<style scoped>\n",
       "    .dataframe tbody tr th:only-of-type {\n",
       "        vertical-align: middle;\n",
       "    }\n",
       "\n",
       "    .dataframe tbody tr th {\n",
       "        vertical-align: top;\n",
       "    }\n",
       "\n",
       "    .dataframe thead th {\n",
       "        text-align: right;\n",
       "    }\n",
       "</style>\n",
       "<table border=\"1\" class=\"dataframe\">\n",
       "  <thead>\n",
       "    <tr style=\"text-align: right;\">\n",
       "      <th></th>\n",
       "      <th>Sales</th>\n",
       "    </tr>\n",
       "  </thead>\n",
       "  <tbody>\n",
       "    <tr>\n",
       "      <th>0</th>\n",
       "      <td>22.1</td>\n",
       "    </tr>\n",
       "    <tr>\n",
       "      <th>1</th>\n",
       "      <td>10.4</td>\n",
       "    </tr>\n",
       "    <tr>\n",
       "      <th>2</th>\n",
       "      <td>9.3</td>\n",
       "    </tr>\n",
       "    <tr>\n",
       "      <th>3</th>\n",
       "      <td>18.5</td>\n",
       "    </tr>\n",
       "    <tr>\n",
       "      <th>4</th>\n",
       "      <td>12.9</td>\n",
       "    </tr>\n",
       "  </tbody>\n",
       "</table>\n",
       "</div>"
      ],
      "text/plain": [
       "   Sales\n",
       "0   22.1\n",
       "1   10.4\n",
       "2    9.3\n",
       "3   18.5\n",
       "4   12.9"
      ]
     },
     "execution_count": 5,
     "metadata": {},
     "output_type": "execute_result"
    }
   ],
   "source": [
    "y.head()"
   ]
  },
  {
   "cell_type": "code",
   "execution_count": 6,
   "id": "2eb7b6b9",
   "metadata": {},
   "outputs": [
    {
     "data": {
      "text/html": [
       "<div>\n",
       "<style scoped>\n",
       "    .dataframe tbody tr th:only-of-type {\n",
       "        vertical-align: middle;\n",
       "    }\n",
       "\n",
       "    .dataframe tbody tr th {\n",
       "        vertical-align: top;\n",
       "    }\n",
       "\n",
       "    .dataframe thead th {\n",
       "        text-align: right;\n",
       "    }\n",
       "</style>\n",
       "<table border=\"1\" class=\"dataframe\">\n",
       "  <thead>\n",
       "    <tr style=\"text-align: right;\">\n",
       "      <th></th>\n",
       "      <th>TV</th>\n",
       "      <th>Radio</th>\n",
       "      <th>Newspaper</th>\n",
       "    </tr>\n",
       "  </thead>\n",
       "  <tbody>\n",
       "    <tr>\n",
       "      <th>0</th>\n",
       "      <td>230.1</td>\n",
       "      <td>37.8</td>\n",
       "      <td>69.2</td>\n",
       "    </tr>\n",
       "    <tr>\n",
       "      <th>1</th>\n",
       "      <td>44.5</td>\n",
       "      <td>39.3</td>\n",
       "      <td>45.1</td>\n",
       "    </tr>\n",
       "    <tr>\n",
       "      <th>2</th>\n",
       "      <td>17.2</td>\n",
       "      <td>45.9</td>\n",
       "      <td>69.3</td>\n",
       "    </tr>\n",
       "    <tr>\n",
       "      <th>3</th>\n",
       "      <td>151.5</td>\n",
       "      <td>41.3</td>\n",
       "      <td>58.5</td>\n",
       "    </tr>\n",
       "    <tr>\n",
       "      <th>4</th>\n",
       "      <td>180.8</td>\n",
       "      <td>10.8</td>\n",
       "      <td>58.4</td>\n",
       "    </tr>\n",
       "  </tbody>\n",
       "</table>\n",
       "</div>"
      ],
      "text/plain": [
       "      TV  Radio  Newspaper\n",
       "0  230.1   37.8       69.2\n",
       "1   44.5   39.3       45.1\n",
       "2   17.2   45.9       69.3\n",
       "3  151.5   41.3       58.5\n",
       "4  180.8   10.8       58.4"
      ]
     },
     "execution_count": 6,
     "metadata": {},
     "output_type": "execute_result"
    }
   ],
   "source": [
    "X.head()"
   ]
  },
  {
   "cell_type": "markdown",
   "id": "000fc0a6",
   "metadata": {},
   "source": [
    "STATSMODEL"
   ]
  },
  {
   "cell_type": "code",
   "execution_count": 7,
   "id": "a3f1fe93",
   "metadata": {},
   "outputs": [
    {
     "data": {
      "text/html": [
       "<table class=\"simpletable\">\n",
       "<caption>OLS Regression Results</caption>\n",
       "<tr>\n",
       "  <th>Dep. Variable:</th>          <td>Sales</td>      <th>  R-squared (uncentered):</th>      <td>   0.982</td> \n",
       "</tr>\n",
       "<tr>\n",
       "  <th>Model:</th>                   <td>OLS</td>       <th>  Adj. R-squared (uncentered):</th> <td>   0.982</td> \n",
       "</tr>\n",
       "<tr>\n",
       "  <th>Method:</th>             <td>Least Squares</td>  <th>  F-statistic:       </th>          <td>   3566.</td> \n",
       "</tr>\n",
       "<tr>\n",
       "  <th>Date:</th>             <td>Mon, 28 Apr 2025</td> <th>  Prob (F-statistic):</th>          <td>2.43e-171</td>\n",
       "</tr>\n",
       "<tr>\n",
       "  <th>Time:</th>                 <td>17:30:28</td>     <th>  Log-Likelihood:    </th>          <td> -423.54</td> \n",
       "</tr>\n",
       "<tr>\n",
       "  <th>No. Observations:</th>      <td>   200</td>      <th>  AIC:               </th>          <td>   853.1</td> \n",
       "</tr>\n",
       "<tr>\n",
       "  <th>Df Residuals:</th>          <td>   197</td>      <th>  BIC:               </th>          <td>   863.0</td> \n",
       "</tr>\n",
       "<tr>\n",
       "  <th>Df Model:</th>              <td>     3</td>      <th>                     </th>              <td> </td>    \n",
       "</tr>\n",
       "<tr>\n",
       "  <th>Covariance Type:</th>      <td>nonrobust</td>    <th>                     </th>              <td> </td>    \n",
       "</tr>\n",
       "</table>\n",
       "<table class=\"simpletable\">\n",
       "<tr>\n",
       "      <td></td>         <th>coef</th>     <th>std err</th>      <th>t</th>      <th>P>|t|</th>  <th>[0.025</th>    <th>0.975]</th>  \n",
       "</tr>\n",
       "<tr>\n",
       "  <th>TV</th>        <td>    0.0538</td> <td>    0.001</td> <td>   40.507</td> <td> 0.000</td> <td>    0.051</td> <td>    0.056</td>\n",
       "</tr>\n",
       "<tr>\n",
       "  <th>Radio</th>     <td>    0.2222</td> <td>    0.009</td> <td>   23.595</td> <td> 0.000</td> <td>    0.204</td> <td>    0.241</td>\n",
       "</tr>\n",
       "<tr>\n",
       "  <th>Newspaper</th> <td>    0.0168</td> <td>    0.007</td> <td>    2.517</td> <td> 0.013</td> <td>    0.004</td> <td>    0.030</td>\n",
       "</tr>\n",
       "</table>\n",
       "<table class=\"simpletable\">\n",
       "<tr>\n",
       "  <th>Omnibus:</th>       <td> 5.982</td> <th>  Durbin-Watson:     </th> <td>   2.038</td>\n",
       "</tr>\n",
       "<tr>\n",
       "  <th>Prob(Omnibus):</th> <td> 0.050</td> <th>  Jarque-Bera (JB):  </th> <td>   7.039</td>\n",
       "</tr>\n",
       "<tr>\n",
       "  <th>Skew:</th>          <td>-0.232</td> <th>  Prob(JB):          </th> <td>  0.0296</td>\n",
       "</tr>\n",
       "<tr>\n",
       "  <th>Kurtosis:</th>      <td> 3.794</td> <th>  Cond. No.          </th> <td>    12.6</td>\n",
       "</tr>\n",
       "</table><br/><br/>Notes:<br/>[1] R² is computed without centering (uncentered) since the model does not contain a constant.<br/>[2] Standard Errors assume that the covariance matrix of the errors is correctly specified."
      ],
      "text/latex": [
       "\\begin{center}\n",
       "\\begin{tabular}{lclc}\n",
       "\\toprule\n",
       "\\textbf{Dep. Variable:}    &      Sales       & \\textbf{  R-squared (uncentered):}      &     0.982   \\\\\n",
       "\\textbf{Model:}            &       OLS        & \\textbf{  Adj. R-squared (uncentered):} &     0.982   \\\\\n",
       "\\textbf{Method:}           &  Least Squares   & \\textbf{  F-statistic:       }          &     3566.   \\\\\n",
       "\\textbf{Date:}             & Mon, 28 Apr 2025 & \\textbf{  Prob (F-statistic):}          & 2.43e-171   \\\\\n",
       "\\textbf{Time:}             &     17:30:28     & \\textbf{  Log-Likelihood:    }          &   -423.54   \\\\\n",
       "\\textbf{No. Observations:} &         200      & \\textbf{  AIC:               }          &     853.1   \\\\\n",
       "\\textbf{Df Residuals:}     &         197      & \\textbf{  BIC:               }          &     863.0   \\\\\n",
       "\\textbf{Df Model:}         &           3      & \\textbf{                     }          &             \\\\\n",
       "\\textbf{Covariance Type:}  &    nonrobust     & \\textbf{                     }          &             \\\\\n",
       "\\bottomrule\n",
       "\\end{tabular}\n",
       "\\begin{tabular}{lcccccc}\n",
       "                   & \\textbf{coef} & \\textbf{std err} & \\textbf{t} & \\textbf{P$> |$t$|$} & \\textbf{[0.025} & \\textbf{0.975]}  \\\\\n",
       "\\midrule\n",
       "\\textbf{TV}        &       0.0538  &        0.001     &    40.507  &         0.000        &        0.051    &        0.056     \\\\\n",
       "\\textbf{Radio}     &       0.2222  &        0.009     &    23.595  &         0.000        &        0.204    &        0.241     \\\\\n",
       "\\textbf{Newspaper} &       0.0168  &        0.007     &     2.517  &         0.013        &        0.004    &        0.030     \\\\\n",
       "\\bottomrule\n",
       "\\end{tabular}\n",
       "\\begin{tabular}{lclc}\n",
       "\\textbf{Omnibus:}       &  5.982 & \\textbf{  Durbin-Watson:     } &    2.038  \\\\\n",
       "\\textbf{Prob(Omnibus):} &  0.050 & \\textbf{  Jarque-Bera (JB):  } &    7.039  \\\\\n",
       "\\textbf{Skew:}          & -0.232 & \\textbf{  Prob(JB):          } &   0.0296  \\\\\n",
       "\\textbf{Kurtosis:}      &  3.794 & \\textbf{  Cond. No.          } &     12.6  \\\\\n",
       "\\bottomrule\n",
       "\\end{tabular}\n",
       "%\\caption{OLS Regression Results}\n",
       "\\end{center}\n",
       "\n",
       "Notes: \\newline\n",
       " [1] R² is computed without centering (uncentered) since the model does not contain a constant. \\newline\n",
       " [2] Standard Errors assume that the covariance matrix of the errors is correctly specified."
      ],
      "text/plain": [
       "<class 'statsmodels.iolib.summary.Summary'>\n",
       "\"\"\"\n",
       "                                 OLS Regression Results                                \n",
       "=======================================================================================\n",
       "Dep. Variable:                  Sales   R-squared (uncentered):                   0.982\n",
       "Model:                            OLS   Adj. R-squared (uncentered):              0.982\n",
       "Method:                 Least Squares   F-statistic:                              3566.\n",
       "Date:                Mon, 28 Apr 2025   Prob (F-statistic):                   2.43e-171\n",
       "Time:                        17:30:28   Log-Likelihood:                         -423.54\n",
       "No. Observations:                 200   AIC:                                      853.1\n",
       "Df Residuals:                     197   BIC:                                      863.0\n",
       "Df Model:                           3                                                  \n",
       "Covariance Type:            nonrobust                                                  \n",
       "==============================================================================\n",
       "                 coef    std err          t      P>|t|      [0.025      0.975]\n",
       "------------------------------------------------------------------------------\n",
       "TV             0.0538      0.001     40.507      0.000       0.051       0.056\n",
       "Radio          0.2222      0.009     23.595      0.000       0.204       0.241\n",
       "Newspaper      0.0168      0.007      2.517      0.013       0.004       0.030\n",
       "==============================================================================\n",
       "Omnibus:                        5.982   Durbin-Watson:                   2.038\n",
       "Prob(Omnibus):                  0.050   Jarque-Bera (JB):                7.039\n",
       "Skew:                          -0.232   Prob(JB):                       0.0296\n",
       "Kurtosis:                       3.794   Cond. No.                         12.6\n",
       "==============================================================================\n",
       "\n",
       "Notes:\n",
       "[1] R² is computed without centering (uncentered) since the model does not contain a constant.\n",
       "[2] Standard Errors assume that the covariance matrix of the errors is correctly specified.\n",
       "\"\"\""
      ]
     },
     "execution_count": 7,
     "metadata": {},
     "output_type": "execute_result"
    }
   ],
   "source": [
    "statsmodel = sm.OLS(y, X)\n",
    "model = statsmodel.fit()\n",
    "model.summary()"
   ]
  },
  {
   "cell_type": "markdown",
   "id": "b236eefb",
   "metadata": {},
   "source": [
    "#### **Açıklamalar ve Değerlendirmeler**\n",
    "\n",
    "- **R-Kare**: Modelin bağımlı değişken (Sales) üzerindeki varyansın %98.2'sini açıkladığını gösteriyor. Bu çok yüksek bir değer ve modelin veriye oldukça iyi uyum sağladığını gösteriyor.\n",
    "  \n",
    "- **F-İstatistiği**: 3566, bu modelin genel olarak anlamlı olduğunu ve bağımsız değişkenlerin (TV, Radio, Newspaper) satış üzerinde istatistiksel olarak önemli bir etkisi olduğunu doğruluyor. F-İstatistiği için p-değeri çok küçük (2.43e-171), bu da modelin güvenilirliğini pekiştiriyor.\n",
    "\n",
    "- **Katsayılar**:\n",
    "  - **TV**: 0.0538, TV reklamlarının her bir birim artışı için satışın ortalama olarak 0.0538 birim arttığını gösterir.\n",
    "  - **Radio**: 0.2222, Radyo reklamlarının her bir birim artışı için satışın ortalama olarak 0.2222 birim arttığını gösterir. Bu katsayı TV'ye göre daha yüksek olduğu için, radyo reklamlarının satışlar üzerinde daha güçlü bir etkisi olduğu söylenebilir.\n",
    "  - **Newspaper**: 0.0168, Gazete reklamlarının her bir birim artışı için satışın ortalama olarak 0.0168 birim arttığını gösterir. Gazete reklamlarının etkisi diğer iki değişkene göre çok daha düşük.\n",
    "\n",
    "- **p-değerleri**: \n",
    "  - **TV** ve **Radio** değişkenleri için p-değerleri 0.000, bu da bu değişkenlerin modelde anlamlı olduğunu gösteriyor.\n",
    "  - **Newspaper** için p-değeri 0.013, bu da gazete reklamlarının da önemli bir etkisi olduğunu, ancak diğer iki değişkene göre daha düşük bir güvenle ifade eder.\n",
    "\n",
    "- **Durbin-Watson İstatistiği**: 2.038, modelin hata terimlerinin bağımsız olduğunu gösterir. Bu değer 2'ye yakınsa, hata terimlerinin bağımsız olduğunu kabul edebiliriz.\n",
    "\n",
    "- **Omnibus Testi** ve **Jarque-Bera Testi**: Bu testler, modelin hata terimlerinin normal dağılıp dağılmadığını test eder. Her ikisi de sırasıyla 0.050 ve 0.0296'lık p-değerleri ile modelin hata terimlerinin normal dağıldığını gösteriyor.\n",
    "\n",
    "- **Çarpıklık (Skew)**: -0.232, modelin hata terimlerinin biraz sol çarpık olduğunu gösteriyor, ancak bu değer modelin güvenilirliğini fazla etkilemez.\n",
    "\n",
    "- **Çentiklik (Kurtosis)**: 3.794, hata terimlerinin normal dağılımın çentikliğinden çok uzak olmadığını gösterir.\n",
    "\n",
    "Bu sonuçlarla, TV, radyo ve gazete reklamlarının satışlar üzerinde önemli etkileri olduğunu, ancak radyo reklamlarının daha güçlü bir etkisi olduğunu görebiliriz. Model oldukça yüksek bir R-kare değerine sahip ve iyi bir performans sergiliyor."
   ]
  },
  {
   "cell_type": "markdown",
   "id": "9a14a272",
   "metadata": {},
   "source": [
    "**SCIKIT LEARN**"
   ]
  },
  {
   "cell_type": "code",
   "execution_count": 8,
   "id": "59d31454",
   "metadata": {},
   "outputs": [],
   "source": [
    "sreg = LinearRegression()\n",
    "model = sreg.fit(X, y)"
   ]
  },
  {
   "cell_type": "code",
   "execution_count": 20,
   "id": "d887d0da",
   "metadata": {},
   "outputs": [
    {
     "name": "stdout",
     "output_type": "stream",
     "text": [
      "b0 =  [2.93888937]\n",
      "b1 =  0.04576464545539761\n",
      "b2 =  0.18853001691820456\n",
      "b3 =  -0.00103749304247632\n",
      "R^2 =  0.8972106381789522\n"
     ]
    }
   ],
   "source": [
    "print(\"b0 = \",model.intercept_), \n",
    "print(\"b1 = \",model.coef_[0][0]), \n",
    "print(\"b2 = \",model.coef_[0][1]), \n",
    "print(\"b3 = \",model.coef_[0][2]), \n",
    "print(\"R^2 = \",model.score(X,y))"
   ]
  },
  {
   "cell_type": "markdown",
   "id": "933946e9",
   "metadata": {},
   "source": [
    "Model = 2.93888937 + 0.04576465 * TV + 0.18853002 * Radio - 0.00103749 * Newspaper"
   ]
  },
  {
   "cell_type": "code",
   "execution_count": 27,
   "id": "c5c4a75e",
   "metadata": {},
   "outputs": [],
   "source": [
    "gercek_y = y.head(10)\n",
    "tahmin_y = pd.DataFrame(model.predict(X)[0:10])\n",
    "gercek_x = X.head(10)"
   ]
  },
  {
   "cell_type": "code",
   "execution_count": 30,
   "id": "48af15ef",
   "metadata": {},
   "outputs": [
    {
     "data": {
      "text/html": [
       "<div>\n",
       "<style scoped>\n",
       "    .dataframe tbody tr th:only-of-type {\n",
       "        vertical-align: middle;\n",
       "    }\n",
       "\n",
       "    .dataframe tbody tr th {\n",
       "        vertical-align: top;\n",
       "    }\n",
       "\n",
       "    .dataframe thead th {\n",
       "        text-align: right;\n",
       "    }\n",
       "</style>\n",
       "<table border=\"1\" class=\"dataframe\">\n",
       "  <thead>\n",
       "    <tr style=\"text-align: right;\">\n",
       "      <th></th>\n",
       "      <th>TV</th>\n",
       "      <th>Radio</th>\n",
       "      <th>Newspaper</th>\n",
       "      <th>Gercek_Satis</th>\n",
       "      <th>Tahmin_Satis</th>\n",
       "    </tr>\n",
       "  </thead>\n",
       "  <tbody>\n",
       "    <tr>\n",
       "      <th>0</th>\n",
       "      <td>230.1</td>\n",
       "      <td>37.8</td>\n",
       "      <td>69.2</td>\n",
       "      <td>22.1</td>\n",
       "      <td>20.523974</td>\n",
       "    </tr>\n",
       "    <tr>\n",
       "      <th>1</th>\n",
       "      <td>44.5</td>\n",
       "      <td>39.3</td>\n",
       "      <td>45.1</td>\n",
       "      <td>10.4</td>\n",
       "      <td>12.337855</td>\n",
       "    </tr>\n",
       "    <tr>\n",
       "      <th>2</th>\n",
       "      <td>17.2</td>\n",
       "      <td>45.9</td>\n",
       "      <td>69.3</td>\n",
       "      <td>9.3</td>\n",
       "      <td>12.307671</td>\n",
       "    </tr>\n",
       "    <tr>\n",
       "      <th>3</th>\n",
       "      <td>151.5</td>\n",
       "      <td>41.3</td>\n",
       "      <td>58.5</td>\n",
       "      <td>18.5</td>\n",
       "      <td>17.597830</td>\n",
       "    </tr>\n",
       "    <tr>\n",
       "      <th>4</th>\n",
       "      <td>180.8</td>\n",
       "      <td>10.8</td>\n",
       "      <td>58.4</td>\n",
       "      <td>12.9</td>\n",
       "      <td>13.188672</td>\n",
       "    </tr>\n",
       "    <tr>\n",
       "      <th>5</th>\n",
       "      <td>8.7</td>\n",
       "      <td>48.9</td>\n",
       "      <td>75.0</td>\n",
       "      <td>7.2</td>\n",
       "      <td>12.478348</td>\n",
       "    </tr>\n",
       "    <tr>\n",
       "      <th>6</th>\n",
       "      <td>57.5</td>\n",
       "      <td>32.8</td>\n",
       "      <td>23.5</td>\n",
       "      <td>11.8</td>\n",
       "      <td>11.729760</td>\n",
       "    </tr>\n",
       "    <tr>\n",
       "      <th>7</th>\n",
       "      <td>120.2</td>\n",
       "      <td>19.6</td>\n",
       "      <td>11.6</td>\n",
       "      <td>13.2</td>\n",
       "      <td>12.122953</td>\n",
       "    </tr>\n",
       "    <tr>\n",
       "      <th>8</th>\n",
       "      <td>8.6</td>\n",
       "      <td>2.1</td>\n",
       "      <td>1.0</td>\n",
       "      <td>4.8</td>\n",
       "      <td>3.727341</td>\n",
       "    </tr>\n",
       "    <tr>\n",
       "      <th>9</th>\n",
       "      <td>199.8</td>\n",
       "      <td>2.6</td>\n",
       "      <td>21.2</td>\n",
       "      <td>10.6</td>\n",
       "      <td>12.550849</td>\n",
       "    </tr>\n",
       "  </tbody>\n",
       "</table>\n",
       "</div>"
      ],
      "text/plain": [
       "      TV  Radio  Newspaper  Gercek_Satis  Tahmin_Satis\n",
       "0  230.1   37.8       69.2          22.1     20.523974\n",
       "1   44.5   39.3       45.1          10.4     12.337855\n",
       "2   17.2   45.9       69.3           9.3     12.307671\n",
       "3  151.5   41.3       58.5          18.5     17.597830\n",
       "4  180.8   10.8       58.4          12.9     13.188672\n",
       "5    8.7   48.9       75.0           7.2     12.478348\n",
       "6   57.5   32.8       23.5          11.8     11.729760\n",
       "7  120.2   19.6       11.6          13.2     12.122953\n",
       "8    8.6    2.1        1.0           4.8      3.727341\n",
       "9  199.8    2.6       21.2          10.6     12.550849"
      ]
     },
     "execution_count": 30,
     "metadata": {},
     "output_type": "execute_result"
    }
   ],
   "source": [
    "# Gerçek y, tahmin edilen y ve gerçek x verilerini birleştirelim\n",
    "tablo = pd.concat([gercek_x, gercek_y, tahmin_y], axis=1)\n",
    "\n",
    "# Kolonlara anlamlı isimler verelim\n",
    "tablo.columns = ['TV', 'Radio', 'Newspaper', 'Gercek_Satis', 'Tahmin_Satis']\n",
    "\n",
    "# Sonuçları gösterelim\n",
    "tablo"
   ]
  },
  {
   "cell_type": "code",
   "execution_count": 31,
   "id": "c4bed823",
   "metadata": {},
   "outputs": [
    {
     "data": {
      "text/html": [
       "<div>\n",
       "<style scoped>\n",
       "    .dataframe tbody tr th:only-of-type {\n",
       "        vertical-align: middle;\n",
       "    }\n",
       "\n",
       "    .dataframe tbody tr th {\n",
       "        vertical-align: top;\n",
       "    }\n",
       "\n",
       "    .dataframe thead th {\n",
       "        text-align: right;\n",
       "    }\n",
       "</style>\n",
       "<table border=\"1\" class=\"dataframe\">\n",
       "  <thead>\n",
       "    <tr style=\"text-align: right;\">\n",
       "      <th></th>\n",
       "      <th>TV</th>\n",
       "      <th>Radio</th>\n",
       "      <th>Newspaper</th>\n",
       "      <th>Gercek_Satis</th>\n",
       "      <th>Tahmin_Satis</th>\n",
       "      <th>hata</th>\n",
       "    </tr>\n",
       "  </thead>\n",
       "  <tbody>\n",
       "    <tr>\n",
       "      <th>0</th>\n",
       "      <td>230.1</td>\n",
       "      <td>37.8</td>\n",
       "      <td>69.2</td>\n",
       "      <td>22.1</td>\n",
       "      <td>20.523974</td>\n",
       "      <td>1.576026</td>\n",
       "    </tr>\n",
       "    <tr>\n",
       "      <th>1</th>\n",
       "      <td>44.5</td>\n",
       "      <td>39.3</td>\n",
       "      <td>45.1</td>\n",
       "      <td>10.4</td>\n",
       "      <td>12.337855</td>\n",
       "      <td>-1.937855</td>\n",
       "    </tr>\n",
       "    <tr>\n",
       "      <th>2</th>\n",
       "      <td>17.2</td>\n",
       "      <td>45.9</td>\n",
       "      <td>69.3</td>\n",
       "      <td>9.3</td>\n",
       "      <td>12.307671</td>\n",
       "      <td>-3.007671</td>\n",
       "    </tr>\n",
       "    <tr>\n",
       "      <th>3</th>\n",
       "      <td>151.5</td>\n",
       "      <td>41.3</td>\n",
       "      <td>58.5</td>\n",
       "      <td>18.5</td>\n",
       "      <td>17.597830</td>\n",
       "      <td>0.902170</td>\n",
       "    </tr>\n",
       "    <tr>\n",
       "      <th>4</th>\n",
       "      <td>180.8</td>\n",
       "      <td>10.8</td>\n",
       "      <td>58.4</td>\n",
       "      <td>12.9</td>\n",
       "      <td>13.188672</td>\n",
       "      <td>-0.288672</td>\n",
       "    </tr>\n",
       "    <tr>\n",
       "      <th>5</th>\n",
       "      <td>8.7</td>\n",
       "      <td>48.9</td>\n",
       "      <td>75.0</td>\n",
       "      <td>7.2</td>\n",
       "      <td>12.478348</td>\n",
       "      <td>-5.278348</td>\n",
       "    </tr>\n",
       "    <tr>\n",
       "      <th>6</th>\n",
       "      <td>57.5</td>\n",
       "      <td>32.8</td>\n",
       "      <td>23.5</td>\n",
       "      <td>11.8</td>\n",
       "      <td>11.729760</td>\n",
       "      <td>0.070240</td>\n",
       "    </tr>\n",
       "    <tr>\n",
       "      <th>7</th>\n",
       "      <td>120.2</td>\n",
       "      <td>19.6</td>\n",
       "      <td>11.6</td>\n",
       "      <td>13.2</td>\n",
       "      <td>12.122953</td>\n",
       "      <td>1.077047</td>\n",
       "    </tr>\n",
       "    <tr>\n",
       "      <th>8</th>\n",
       "      <td>8.6</td>\n",
       "      <td>2.1</td>\n",
       "      <td>1.0</td>\n",
       "      <td>4.8</td>\n",
       "      <td>3.727341</td>\n",
       "      <td>1.072659</td>\n",
       "    </tr>\n",
       "    <tr>\n",
       "      <th>9</th>\n",
       "      <td>199.8</td>\n",
       "      <td>2.6</td>\n",
       "      <td>21.2</td>\n",
       "      <td>10.6</td>\n",
       "      <td>12.550849</td>\n",
       "      <td>-1.950849</td>\n",
       "    </tr>\n",
       "  </tbody>\n",
       "</table>\n",
       "</div>"
      ],
      "text/plain": [
       "      TV  Radio  Newspaper  Gercek_Satis  Tahmin_Satis      hata\n",
       "0  230.1   37.8       69.2          22.1     20.523974  1.576026\n",
       "1   44.5   39.3       45.1          10.4     12.337855 -1.937855\n",
       "2   17.2   45.9       69.3           9.3     12.307671 -3.007671\n",
       "3  151.5   41.3       58.5          18.5     17.597830  0.902170\n",
       "4  180.8   10.8       58.4          12.9     13.188672 -0.288672\n",
       "5    8.7   48.9       75.0           7.2     12.478348 -5.278348\n",
       "6   57.5   32.8       23.5          11.8     11.729760  0.070240\n",
       "7  120.2   19.6       11.6          13.2     12.122953  1.077047\n",
       "8    8.6    2.1        1.0           4.8      3.727341  1.072659\n",
       "9  199.8    2.6       21.2          10.6     12.550849 -1.950849"
      ]
     },
     "execution_count": 31,
     "metadata": {},
     "output_type": "execute_result"
    }
   ],
   "source": [
    "tablo['hata'] = tablo['Gercek_Satis'] - tablo['Tahmin_Satis']\n",
    "tablo"
   ]
  },
  {
   "cell_type": "code",
   "execution_count": 33,
   "id": "e87c10f9",
   "metadata": {},
   "outputs": [
    {
     "name": "stdout",
     "output_type": "stream",
     "text": [
      "MAE =  1.2520112296870685\n",
      "MSE =  2.784126314510936\n",
      "RMSE =  1.6685701407225697\n"
     ]
    }
   ],
   "source": [
    "MSE = mean_squared_error(y, model.predict(X))\n",
    "RMSE = np.sqrt(MSE)\n",
    "MAE = np.mean(np.abs(y - model.predict(X)))\n",
    "print(\"MAE = \", MAE)\n",
    "print(\"MSE = \", MSE)\n",
    "print(\"RMSE = \", RMSE)"
   ]
  },
  {
   "cell_type": "markdown",
   "id": "375f0bd1",
   "metadata": {},
   "source": [
    "MODEL TUNING (MODEL DOGRULAMA)"
   ]
  },
  {
   "cell_type": "code",
   "execution_count": 68,
   "id": "341bdfa4",
   "metadata": {},
   "outputs": [
    {
     "name": "stdout",
     "output_type": "stream",
     "text": [
      "Egitim Seti Boyutu:  160\n",
      "Test Seti Boyutu:  40\n",
      "Egitim Seti Boyutu:  160\n",
      "Test Seti Boyutu:  40\n"
     ]
    }
   ],
   "source": [
    "## Verinin Egitim ve Test Setlerine Bolunmesi\n",
    "X_train, X_test, y_train, y_test = train_test_split(X, y, test_size=0.2, random_state=60)\n",
    "print(\"Egitim Seti Boyutu: \", X_train.shape[0])\n",
    "print(\"Test Seti Boyutu: \", X_test.shape[0])\n",
    "print(\"Egitim Seti Boyutu: \", y_train.shape[0])\n",
    "print(\"Test Seti Boyutu: \", y_test.shape[0])"
   ]
  },
  {
   "cell_type": "code",
   "execution_count": 69,
   "id": "4c891dd1",
   "metadata": {},
   "outputs": [
    {
     "name": "stdout",
     "output_type": "stream",
     "text": [
      "b0 =  [3.17606082]\n",
      "b1 =  0.04481075470401089\n",
      "b2 =  0.19240025103730687\n",
      "b3 =  -0.0077500022968894815\n",
      "R^2 =  0.8924386252509565\n"
     ]
    }
   ],
   "source": [
    "sreg = LinearRegression()\n",
    "model = sreg.fit(X_train, y_train) # Egitim seti ile model olusturuldu\n",
    "print(\"b0 = \",model.intercept_),\n",
    "print(\"b1 = \",model.coef_[0][0]),\n",
    "print(\"b2 = \",model.coef_[0][1]),\n",
    "print(\"b3 = \",model.coef_[0][2]),\n",
    "print(\"R^2 = \",model.score(X_train,y_train))"
   ]
  },
  {
   "cell_type": "code",
   "execution_count": 70,
   "id": "96665e62",
   "metadata": {},
   "outputs": [
    {
     "name": "stdout",
     "output_type": "stream",
     "text": [
      "Egitim Hatası:  1.6884698315130209\n",
      "Test Hatası:  1.6276538859244956\n"
     ]
    }
   ],
   "source": [
    "# Egitim Hatasini hesaplayalim\n",
    "MSE_Train = np.sqrt(mean_squared_error(y_train, model.predict(X_train))) # Egitim Hatasini hesaplayalim\n",
    "# Test Hatasini hesaplayalim\n",
    "MSE_Test = np.sqrt(mean_squared_error(y_test, model.predict(X_test))) # Test Hatasini hesaplayalim\n",
    "\n",
    "print(\"Egitim Hatası: \", MSE_Train)\n",
    "print(\"Test Hatası: \", MSE_Test)"
   ]
  },
  {
   "cell_type": "markdown",
   "id": "81ca2320",
   "metadata": {},
   "source": [
    "## **K-Katli Cross Validation (MANTIKLI OLAN, Yapmam Gereken)**"
   ]
  },
  {
   "cell_type": "code",
   "execution_count": null,
   "id": "dfac5f62",
   "metadata": {},
   "outputs": [
    {
     "data": {
      "text/plain": [
       "array([-1.06377064, -3.16977842, -3.99765198, -3.8148933 , -2.48057801,\n",
       "       -1.80931618, -5.40424207, -1.38967391, -7.32266265, -1.2886141 ])"
      ]
     },
     "execution_count": 71,
     "metadata": {},
     "output_type": "execute_result"
    }
   ],
   "source": [
    "cross_val_score(model, X_train, y_train, cv=10, scoring='neg_mean_squared_error') "
   ]
  },
  {
   "cell_type": "code",
   "execution_count": null,
   "id": "b048eee6",
   "metadata": {},
   "outputs": [
    {
     "data": {
      "text/plain": [
       "array([-0.99906182, -4.82478553, -2.24351612, -3.33448381, -5.19171441,\n",
       "       -1.34235518, -1.09617624, -2.77859369, -1.03463212, -1.25002457])"
      ]
     },
     "execution_count": 72,
     "metadata": {},
     "output_type": "execute_result"
    }
   ],
   "source": [
    "cross_val_score(model, X_test, y_test, cv=10, scoring='neg_mean_squared_error') "
   ]
  },
  {
   "cell_type": "code",
   "execution_count": 79,
   "id": "f4435016",
   "metadata": {},
   "outputs": [],
   "source": [
    "# MSE Train\n",
    "MSE_Train_All = np.mean(-cross_val_score(model, X_train, y_train, cv=10, scoring='neg_mean_squared_error')) "
   ]
  },
  {
   "cell_type": "code",
   "execution_count": 80,
   "id": "a3dc0ed0",
   "metadata": {},
   "outputs": [],
   "source": [
    "# MSE Test\n",
    "MSE_Test_All = np.mean(-cross_val_score(model, X_test, y_test, cv=10, scoring='neg_mean_squared_error')) "
   ]
  },
  {
   "cell_type": "code",
   "execution_count": 82,
   "id": "d4700655",
   "metadata": {},
   "outputs": [],
   "source": [
    "# RMSE Train\n",
    "RMSE_Train = np.sqrt(np.mean(-cross_val_score(model, X_train, y_train, cv=10, scoring='neg_mean_squared_error')))"
   ]
  },
  {
   "cell_type": "code",
   "execution_count": 83,
   "id": "011e1b0b",
   "metadata": {},
   "outputs": [],
   "source": [
    "# RMSE Test\n",
    "RMSE_Test = np.sqrt(np.mean(-cross_val_score(model, X_test, y_test, cv=10, scoring='neg_mean_squared_error')))"
   ]
  },
  {
   "cell_type": "code",
   "execution_count": 84,
   "id": "c3f23bbe",
   "metadata": {},
   "outputs": [],
   "source": [
    "# Genel Hata\n",
    "RMSE_Genel = np.sqrt(np.mean(-cross_val_score(model, X, y, cv=10, scoring='neg_mean_squared_error')))"
   ]
  },
  {
   "cell_type": "code",
   "execution_count": 86,
   "id": "541ef3a6",
   "metadata": {},
   "outputs": [
    {
     "name": "stdout",
     "output_type": "stream",
     "text": [
      "MSE Train:  3.174118126536387\n",
      "MSE Test:  2.4095343493442014\n",
      "RMSE Train:  1.7816054912736397\n",
      "RMSE Test:  1.552267486403101\n",
      "RMSE Genel:  1.749276312684338\n"
     ]
    }
   ],
   "source": [
    "print(\"MSE Train: \", MSE_Train_All)\n",
    "print(\"MSE Test: \", MSE_Test_All)\n",
    "print(\"RMSE Train: \", RMSE_Train)\n",
    "print(\"RMSE Test: \", RMSE_Test)\n",
    "print(\"RMSE Genel: \", RMSE_Genel)\n",
    "# Modelin Test Seti Üzerindeki Performansı"
   ]
  }
 ],
 "metadata": {
  "kernelspec": {
   "display_name": "py-3-10-env",
   "language": "python",
   "name": "python3"
  },
  "language_info": {
   "codemirror_mode": {
    "name": "ipython",
    "version": 3
   },
   "file_extension": ".py",
   "mimetype": "text/x-python",
   "name": "python",
   "nbconvert_exporter": "python",
   "pygments_lexer": "ipython3",
   "version": "3.10.16"
  }
 },
 "nbformat": 4,
 "nbformat_minor": 5
}
